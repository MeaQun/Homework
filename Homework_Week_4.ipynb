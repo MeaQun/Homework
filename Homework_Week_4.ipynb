{
 "cells": [
  {
   "cell_type": "markdown",
   "metadata": {},
   "source": [
    "## Homework Week 4 - Python ##\n",
    "\n",
    "1. **What does one need to do to use a _module_?**\n",
    "\n",
    "    One needs to import the module into the code-base by using the import statement.\n",
    "\n",
    "1. **Name a Module (not the DateTime Nodule) we looked at and write a line or 2 of code as an example using this module.**\n",
    "\n",
    "    Math module is one of modules we looked at, apart from the DateTime. Makes the common calculator look like a mathematical prodigy. \n"
   ]
  },
  {
   "cell_type": "code",
   "execution_count": 3,
   "metadata": {},
   "outputs": [
    {
     "name": "stdout",
     "output_type": "stream",
     "text": [
      "Square:  59536\n"
     ]
    }
   ],
   "source": [
    "import math\n",
    "print(\"Square: \", 244**2)"
   ]
  },
  {
   "cell_type": "markdown",
   "metadata": {},
   "source": [
    "1. **What is a benefit of using _Exception handling_?**\n",
    "\n",
    "    The rest of the program / code can be executed regardless of the error. We don't get hung up on the potential error, but we're still aware that there is one.\n",
    "\n",
    "1. **What are the _4 components_ used for Python Exception Handling?**\n",
    "\n",
    "    If I understand the quesion correctly, the four components are: try, except, else & finally.\n",
    "\n",
    "1. **_NumPy arrays_ are like what Python data type?**\n",
    "\n",
    "    Arrays are like listswithin [] with just one specified data type.\n",
    "\n",
    "1. **What is one of the _main benefits_ of using NumPy arrays.**\n",
    "\n",
    "    Size. They are much smaller and hence use less memory and are faster to process.\n",
    "\n",
    "1. **What is one of the _main requirements_ about the 'dtype' of NumPy arrays?**\n",
    "\n",
    "    The data has to be from the same type.\n",
    "\n",
    "1. **Of the 10 _uses of NumPy_, name 2.**\n",
    "\n",
    "    Mathematical operations, searching, sorting & counting.\n",
    "\n",
    "1. **Name one of the other _libraries_ we'll use with NumPy?**\n",
    "\n",
    "    Pandas.\n",
    "\n",
    "1. **What is the _shape of NumPy arrays_?**\n",
    "\n",
    "    1D, 2D, or 3D\n",
    "\n",
    "1. **What is a _Tensor_?**\n",
    "\n",
    "    Tensor is a 3D array, meaning it has 3 or more axes.\n",
    "\n",
    "1. **Name a reason why it's better _using NumPy_ for Data Analysis than using a Python List?**\n",
    "\n",
    "    Memory/storage & speed.\n",
    "\n",
    "1. **When creating an _\"empty\" array_, where do the elements come from?**\n",
    "\n",
    "    The elements come from the machine used to create the array."
   ]
  },
  {
   "cell_type": "code",
   "execution_count": 4,
   "metadata": {},
   "outputs": [
    {
     "name": "stdout",
     "output_type": "stream",
     "text": [
      "Renting a car is more affordable\n"
     ]
    }
   ],
   "source": [
    "# Create an if statement: if 'age' is greater than or equal to 25,\n",
    "# print \"Renting a car is more affordable\", however if 'age' is less than 25,\n",
    "# print \"Renting a car is very expensive.\"\n",
    "\n",
    "age = 65\n",
    "\n",
    "if age >= 25:\n",
    "    print(\"Renting a car is more affordable\")\n",
    "else:\n",
    "    print(\"Renting a car is very expensive.\")"
   ]
  },
  {
   "cell_type": "code",
   "execution_count": 8,
   "metadata": {},
   "outputs": [
    {
     "name": "stdout",
     "output_type": "stream",
     "text": [
      "You cannot legally rent a car.\n"
     ]
    }
   ],
   "source": [
    "# Create and chain an if-else statement: \n",
    "# if 'age' is greater than or equal to 25, print \"Renting a car is more affordable.\" \n",
    "# If 'age' is less than 25 but greater than or equal to 18, print \"Renting a car is very expensive.\" \n",
    "# Finally, if age is less than 18, print \"You cannot legally rent a car.\"\n",
    "\n",
    "age = 17\n",
    "\n",
    "if age >= 25:\n",
    "    print(\"Renting a car is more affordable\")\n",
    "elif age < 25 and age > 18 :\n",
    "    print(\"Renting a car is very expensive.\")\n",
    "else: \n",
    "    print(\"You cannot legally rent a car.\")"
   ]
  },
  {
   "cell_type": "code",
   "execution_count": 12,
   "metadata": {},
   "outputs": [
    {
     "name": "stdout",
     "output_type": "stream",
     "text": [
      "43\n",
      "e\n",
      "u\n",
      "i\n",
      "o\n",
      "o\n",
      "u\n",
      "o\n",
      "e\n",
      "e\n",
      "a\n",
      "o\n"
     ]
    }
   ],
   "source": [
    "# Loop over the following string to (1) count all the characters in the string \n",
    "# and (2) print out all the vowels -- \"The quick brown fox jumps over the lazy dog\"\n",
    "\n",
    "# why not use the len() function here?\n",
    "testStr = \"The quick brown fox jumps over the lazy dog\"\n",
    "#count = len(testStr)\n",
    "#print(count)\n",
    "\n",
    "count = 0\n",
    "vowel = (\"a\", \"e\", \"i\", \"o\", \"u\")\n",
    "\n",
    "for character in testStr:\n",
    "    count += 1\n",
    "print(count)\n",
    "\n",
    "for letter in testStr:\n",
    "    if letter in vowel:\n",
    "        print(letter)\n"
   ]
  },
  {
   "cell_type": "code",
   "execution_count": 3,
   "metadata": {},
   "outputs": [
    {
     "name": "stdout",
     "output_type": "stream",
     "text": [
      "gunmetal blue trousers\n",
      "Dark Sapphire trousers\n",
      "cerise trousers\n",
      "fuchsia trousers\n",
      "aqua trousers\n",
      "auburn trousers\n",
      "maple trousers\n",
      "burnt sienna trousers\n",
      "gunmetal blue blouse\n",
      "Dark Sapphire blouse\n",
      "cerise blouse\n",
      "fuchsia blouse\n",
      "aqua blouse\n",
      "auburn blouse\n",
      "maple blouse\n",
      "burnt sienna blouse\n",
      "gunmetal blue bandana\n",
      "Dark Sapphire bandana\n",
      "cerise bandana\n",
      "fuchsia bandana\n",
      "aqua bandana\n",
      "auburn bandana\n",
      "maple bandana\n",
      "burnt sienna bandana\n",
      "gunmetal blue cumber band\n",
      "Dark Sapphire cumber band\n",
      "cerise cumber band\n",
      "fuchsia cumber band\n",
      "aqua cumber band\n",
      "auburn cumber band\n",
      "maple cumber band\n",
      "burnt sienna cumber band\n",
      "gunmetal blue blazer\n",
      "Dark Sapphire blazer\n",
      "cerise blazer\n",
      "fuchsia blazer\n",
      "aqua blazer\n",
      "auburn blazer\n",
      "maple blazer\n",
      "burnt sienna blazer\n",
      "gunmetal blue vest\n",
      "Dark Sapphire vest\n",
      "cerise vest\n",
      "fuchsia vest\n",
      "aqua vest\n",
      "auburn vest\n",
      "maple vest\n",
      "burnt sienna vest\n",
      "gunmetal blue french beret\n",
      "Dark Sapphire french beret\n",
      "cerise french beret\n",
      "fuchsia french beret\n",
      "aqua french beret\n",
      "auburn french beret\n",
      "maple french beret\n",
      "burnt sienna french beret\n",
      "gunmetal blue scarf\n",
      "Dark Sapphire scarf\n",
      "cerise scarf\n",
      "fuchsia scarf\n",
      "aqua scarf\n",
      "auburn scarf\n",
      "maple scarf\n",
      "burnt sienna scarf\n",
      "gunmetal blue stole\n",
      "Dark Sapphire stole\n",
      "cerise stole\n",
      "fuchsia stole\n",
      "aqua stole\n",
      "auburn stole\n",
      "maple stole\n",
      "burnt sienna stole\n"
     ]
    }
   ],
   "source": [
    "# Write a nested loop that prints out every piece of clothing from the couture list, \n",
    "# in every fashionable color from the panettone set: \n",
    "# couture = [\"trousers\", \"blouse\", \"bandana\", \"cumber band\", \"blazer\", \"vest\", \"french beret\", \"scarf\", \"stole\"] \n",
    "# and panettone = {\"cerise\", \"fuchsia\", \"aqua\", \"maple\", \"auburn\", \"burnt sienna\", \"gunmetal blue\", \"Dark Sapphire\"}\n",
    "\n",
    "couture = [\"trousers\", \"blouse\", \"bandana\", \"cumber band\", \"blazer\", \"vest\", \"french beret\", \"scarf\", \"stole\"]\n",
    "panettone = {\"cerise\", \"fuchsia\", \"aqua\", \"maple\", \"auburn\", \"burnt sienna\", \"gunmetal blue\", \"Dark Sapphire\"}\n",
    "\n",
    "for clothes in couture:\n",
    "    for color in panettone:\n",
    "        print(color, clothes)\n"
   ]
  },
  {
   "cell_type": "code",
   "execution_count": 4,
   "metadata": {},
   "outputs": [
    {
     "name": "stdout",
     "output_type": "stream",
     "text": [
      "5050\n"
     ]
    }
   ],
   "source": [
    "# Use range as a loop to calculate the sum of all the numbers from 1 to 100\n",
    "number = 0\n",
    "total = 0\n",
    "\n",
    "while number in range(0, 100):\n",
    "    number+=1\n",
    "    total = total + number\n",
    "print(total)\n",
    " "
   ]
  },
  {
   "cell_type": "code",
   "execution_count": 16,
   "metadata": {},
   "outputs": [
    {
     "name": "stdout",
     "output_type": "stream",
     "text": [
      "banana\n"
     ]
    }
   ],
   "source": [
    "# Print the second item in this fruits list. [\"apple\", \"banana\", \"cherry\"]\n",
    "\n",
    "list = [\"apple\", \"banana\", \"cherry\"]\n",
    "\n",
    "print(list[1])"
   ]
  },
  {
   "cell_type": "code",
   "execution_count": 18,
   "metadata": {},
   "outputs": [
    {
     "name": "stdout",
     "output_type": "stream",
     "text": [
      "['kiwi', 'banana', 'cherry']\n"
     ]
    }
   ],
   "source": [
    "# Change the value from \"apple\" to \"kiwi\", in the fruits list. [\"apple\", \"banana\", \"cherry\"]\n",
    "\n",
    "fruits = [\"apple\", \"banana\", \"cherry\"]\n",
    "\n",
    "fruits[0] = \"kiwi\"\n",
    "print(fruits)\n"
   ]
  },
  {
   "cell_type": "code",
   "execution_count": 20,
   "metadata": {},
   "outputs": [
    {
     "name": "stdout",
     "output_type": "stream",
     "text": [
      "['apple', 'banana', 'cherry', 'orange']\n"
     ]
    }
   ],
   "source": [
    "# Use the append method to add \"orange\" to the fruits list. [\"apple\", \"banana\", \"cherry\"]\n",
    "\n",
    "fruits = [\"apple\", \"banana\", \"cherry\"]\n",
    "fruits.append(\"orange\")\n",
    "print(fruits)"
   ]
  },
  {
   "cell_type": "code",
   "execution_count": 22,
   "metadata": {},
   "outputs": [
    {
     "name": "stdout",
     "output_type": "stream",
     "text": [
      "['apple', 'lemon', 'banana', 'cherry']\n"
     ]
    }
   ],
   "source": [
    "# Use the insert method to add \"lemon\" as the second item in the fruits list. [\"apple\", \"banana\", \"cherry\"]\n",
    "\n",
    "fruits = [\"apple\", \"banana\", \"cherry\"]\n",
    "fruits.insert(1, \"lemon\")\n",
    "print(fruits)\n"
   ]
  },
  {
   "cell_type": "code",
   "execution_count": 23,
   "metadata": {},
   "outputs": [
    {
     "name": "stdout",
     "output_type": "stream",
     "text": [
      "['apple', 'cherry']\n"
     ]
    }
   ],
   "source": [
    "# Use the remove method to remove \"banana\" from the fruits list. [\"apple\", \"banana\", \"cherry\"]\n",
    "\n",
    "fruits = [\"apple\", \"banana\", \"cherry\"]\n",
    "fruits.remove(\"banana\")\n",
    "print(fruits)\n"
   ]
  },
  {
   "cell_type": "code",
   "execution_count": 41,
   "metadata": {},
   "outputs": [
    {
     "name": "stdout",
     "output_type": "stream",
     "text": [
      "cherry melon\n",
      "['cherry', 'melon']\n",
      "['kiwi', 'melon']\n"
     ]
    }
   ],
   "source": [
    "# Use negative indexing to print the \n",
    "# 3rd and 2nd to last items in the list. \n",
    "\n",
    "fruits = [\"apple\", \"banana\", \"cherry\", \"orange\", \"kiwi\", \"melon\", \"mango\"]\n",
    "\n",
    "print(fruits[-5], fruits[-2])\n",
    "print(fruits[-5:-1:3])\n",
    "print(fruits[-3:-1])"
   ]
  },
  {
   "cell_type": "code",
   "execution_count": 34,
   "metadata": {},
   "outputs": [
    {
     "name": "stdout",
     "output_type": "stream",
     "text": [
      "['cherry', 'orange', 'kiwi']\n"
     ]
    }
   ],
   "source": [
    "# Use a range of indexes to print the third, fourth, and fifth item \n",
    "# in the list. [\"apple\", \"banana\", \"cherry\", \"orange\", \"kiwi\", \"melon\", \"mango\"]\n",
    "\n",
    "fruits = [\"apple\", \"banana\", \"cherry\", \"orange\", \"kiwi\", \"melon\", \"mango\"]\n",
    "print(fruits[2:5])"
   ]
  },
  {
   "cell_type": "code",
   "execution_count": 35,
   "metadata": {},
   "outputs": [
    {
     "name": "stdout",
     "output_type": "stream",
     "text": [
      "7\n"
     ]
    }
   ],
   "source": [
    "# Use the correct syntax to print the number of items in the list. \n",
    "\n",
    "fruits = [\"apple\", \"banana\", \"cherry\", \"orange\", \"kiwi\", \"melon\", \"mango\"]\n",
    "\n",
    "print(len(fruits))"
   ]
  },
  {
   "cell_type": "code",
   "execution_count": 2,
   "metadata": {},
   "outputs": [
    {
     "name": "stdout",
     "output_type": "stream",
     "text": [
      "['mango', 'melon', 'kiwi', 'orange', 'cherry', 'banana', 'apple']\n"
     ]
    }
   ],
   "source": [
    "# Use the correct syntax to sort this list in reverse order \n",
    "\n",
    "fruits = [\"apple\", \"banana\", \"cherry\", \"orange\", \"kiwi\", \"melon\", \"mango\"]\n",
    "\n",
    "rev = list(reversed(fruits))\n",
    "print(rev)\n"
   ]
  },
  {
   "cell_type": "code",
   "execution_count": 9,
   "metadata": {},
   "outputs": [
    {
     "name": "stdout",
     "output_type": "stream",
     "text": [
      "2024-02-05 09:49:06.387911\n",
      "Month: February\n"
     ]
    }
   ],
   "source": [
    "# Use the DateTime module to get Current Date and Time, and save it to a variable. \n",
    "# Then extract just the Full month name form that variable.\n",
    "\n",
    "import datetime as dt\n",
    "\n",
    "now = dt.datetime.now()\n",
    "print(now)\n",
    "\n",
    "print(\"Month:\", (now.strftime(\"%B\")))\n"
   ]
  },
  {
   "cell_type": "code",
   "execution_count": null,
   "metadata": {},
   "outputs": [],
   "source": [
    "# Write a simple function that takes 2 parameters -- a first name and a day name\n",
    "\n",
    "def simple(fname, dname):\n",
    "\n"
   ]
  },
  {
   "cell_type": "code",
   "execution_count": null,
   "metadata": {},
   "outputs": [],
   "source": [
    "# Set a default value for the day name of Sunday.\n",
    "\n",
    "def simple(fname, dname = \"Sunday\"):\n",
    "\n"
   ]
  },
  {
   "cell_type": "code",
   "execution_count": 17,
   "metadata": {},
   "outputs": [
    {
     "name": "stdout",
     "output_type": "stream",
     "text": [
      "Hi, Jane ! Happy Sunday !\n"
     ]
    }
   ],
   "source": [
    "# Have the function print out a greeting -- using the parameters -- \n",
    "# that says something like \"Hi first-name! Happy day-name!\". \n",
    "# Remember to use the variables in the greeting to replace first-name and day-name.\n",
    "\n",
    "\n",
    "def simple(fname, dname = \"Sunday\"):\n",
    "    print(\"Hi,\", fname,\"!\", \"Happy\", dname,\"!\")\n",
    "\n",
    "simple(fname=\"Jane\")\n",
    "\n"
   ]
  },
  {
   "cell_type": "code",
   "execution_count": 2,
   "metadata": {},
   "outputs": [
    {
     "name": "stdout",
     "output_type": "stream",
     "text": [
      "Hi, Jane ! Happy Thursday !\n"
     ]
    }
   ],
   "source": [
    "# a) Invoke this function with 2 variables.\n",
    "def simple(fname, dname = \"Sunday\"):\n",
    "    print(\"Hi,\", fname,\"!\", \"Happy\", dname,\"!\")\n",
    "\n",
    "simple(\"Jane\",\"Thursday\")\n",
    "\n"
   ]
  },
  {
   "cell_type": "code",
   "execution_count": 3,
   "metadata": {},
   "outputs": [
    {
     "name": "stdout",
     "output_type": "stream",
     "text": [
      "Hi, Jack ! Happy Sunday !\n"
     ]
    }
   ],
   "source": [
    "# b) Invoke this function with 1 variable only.\n",
    "\n",
    "def simple(fname, dname = \"Sunday\"):\n",
    "    print(\"Hi,\", fname,\"!\", \"Happy\", dname,\"!\")\n",
    "\n",
    "simple(\"Jack\")"
   ]
  },
  {
   "cell_type": "code",
   "execution_count": 20,
   "metadata": {},
   "outputs": [
    {
     "name": "stdout",
     "output_type": "stream",
     "text": [
      "that's out of range\n",
      "you tried\n"
     ]
    }
   ],
   "source": [
    "# Write a block of code to handle one of the most common Python exception errors. \n",
    "# Select one of the common errors from the curriculum section on Python Exception handling. \n",
    "# Have your code example uses the try,except, else, and finally components.\n",
    "\n",
    "list = [\"none\", \"of\", \"this\", \"makes\", \"sense\"]\n",
    "indexnumber = int(input(\"what's the index you're looking for: \"))\n",
    "\n",
    "try:\n",
    "    print(list[indexnumber])\n",
    "except IndexError:\n",
    "    print(\"that's out of range\")\n",
    "else:\n",
    "    print(\"whoohoo\")\n",
    "finally:\n",
    "    print(\"you tried\")"
   ]
  }
 ],
 "metadata": {
  "kernelspec": {
   "display_name": "Python 3",
   "language": "python",
   "name": "python3"
  },
  "language_info": {
   "codemirror_mode": {
    "name": "ipython",
    "version": 3
   },
   "file_extension": ".py",
   "mimetype": "text/x-python",
   "name": "python",
   "nbconvert_exporter": "python",
   "pygments_lexer": "ipython3",
   "version": "3.12.1"
  }
 },
 "nbformat": 4,
 "nbformat_minor": 2
}
