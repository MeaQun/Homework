{
 "cells": [
  {
   "cell_type": "markdown",
   "metadata": {},
   "source": [
    "## Homework Questions Week 3 ##\n",
    "\n",
    "1. What is an _algorithm_?\n",
    "\n",
    "    An algorithm is a **series of steps** which solve a posed problem.\n",
    "\n",
    "\n",
    "1. Variable names _may not_ start with certain characters - name two.\n",
    "\n",
    "    Variable names can't start with a **number** or a **special character**.\n",
    "\n",
    "\n",
    "1. What is a _semantic error_?\n",
    "\n",
    "    A semantic error is a grammatically correct code which **doesn't makse sense** to the program, so it doesn't perform as expected.\n",
    "\n",
    "1. What is the _#1 rule_ of coding / debugging?\n",
    "\n",
    "    The number one rule of coding / debugging is ~~we don't talk about coding / debugging~~ complexity is the enemy of efficiency.\n",
    "\n",
    "1. List 5 _Python reserved words_.\n",
    "\n",
    "    * false / true\n",
    "    * not\n",
    "    * or\n",
    "    * if / else / elif\n",
    "    * class\n"
   ]
  },
  {
   "cell_type": "code",
   "execution_count": 71,
   "metadata": {},
   "outputs": [
    {
     "name": "stdout",
     "output_type": "stream",
     "text": [
      "My name is Mea.\n",
      "My favorite food is anything with dough.\n",
      "I don't have a dram job, I don't dream of labor.\n"
     ]
    }
   ],
   "source": [
    "# 6. Write a multi-line comment with your name, favorite food, and dream job on 3 different lines\n",
    "\n",
    "multistring = \"\"\"My name is Mea.\n",
    "My favorite food is anything with dough.\n",
    "I don't have a dram job, I don't dream of labor.\"\"\"\n",
    "\n",
    "print(multistring)\n"
   ]
  },
  {
   "cell_type": "code",
   "execution_count": 72,
   "metadata": {},
   "outputs": [],
   "source": [
    "# 7. Assign 5 different data types to 5 different variables. At least one datatype must be a string\n",
    "\n",
    "letters = \"This is a string\"\n",
    "numeric = 453960\n",
    "truth = False\n",
    "dict = {\"name\" : \"Mr. Smith\", \"age\" : \"77\"}\n",
    "list1 = [\"one\", \"homework\", \"more\"]\n",
    "\n",
    "\n",
    "\n"
   ]
  },
  {
   "cell_type": "code",
   "execution_count": 73,
   "metadata": {},
   "outputs": [
    {
     "name": "stdout",
     "output_type": "stream",
     "text": [
      "16\n"
     ]
    }
   ],
   "source": [
    "# Print the length of your string\n",
    "print(len(letters))"
   ]
  },
  {
   "cell_type": "code",
   "execution_count": 74,
   "metadata": {},
   "outputs": [
    {
     "name": "stdout",
     "output_type": "stream",
     "text": [
      "s\n"
     ]
    }
   ],
   "source": [
    "# Print the index value of the 4th character in your string\n",
    "print(letters[3])\n"
   ]
  },
  {
   "cell_type": "code",
   "execution_count": 75,
   "metadata": {},
   "outputs": [
    {
     "name": "stdout",
     "output_type": "stream",
     "text": [
      "ing Data Analytics \n",
      "Learning Data Analytics and Python is great!\n",
      "Yup, there is Python in string.\n"
     ]
    }
   ],
   "source": [
    "# 8. Create a new variable called savvy, and assign it the string with this phrase \n",
    "# \"Learning Data Analytics and Python is Awesome!\"\n",
    "#Return a range of characters that slices the above string from the beginning of \"ing\" up to before \"and\"\n",
    "#Replace \"Awesome\" with \"great\" in the string\n",
    "#Test and print the savvy string to see it contains \"Python\"\n",
    "\n",
    "savvy = \"Learning Data Analytics and Python is Awesome!\"\n",
    "\n",
    "print(savvy[5:24])\n",
    "\n",
    "print(savvy.replace(\"Awesome\", \"great\"))\n",
    "\n",
    "if \"Python\" in savvy :\n",
    "    print(\"Yup, there is Python in string.\")\n",
    "else :\n",
    "    print(\"Nope, no Python in string.\")\n",
    "\n"
   ]
  },
  {
   "cell_type": "code",
   "execution_count": 2,
   "metadata": {},
   "outputs": [
    {
     "name": "stdout",
     "output_type": "stream",
     "text": [
      "Hi my name is Regina Phalange, I am 6 feet & 3 inches tall and 97 years old today.\n",
      "97.0\n"
     ]
    }
   ],
   "source": [
    "# 9. Create and assign 3 more variables called name, age and length using the multi-variable naming method\n",
    "#Format a new string called 'miniBio' using variables in curly brackets to complete this phrase... \n",
    "#\"Hi my name is (name), I am (tall) and (so) old today.\"\n",
    "#Print 'miniBio'\n",
    "#Cast and print the age variable to a float\n",
    "\n",
    "name, age, length = \"Regina Phalange\", 97, \"6 feet & 3 inches\"\n",
    "\n",
    "miniBio = f\"\"\"Hi my name is {name}, I am {length} tall and {age} years old today.\"\"\"\n",
    "\n",
    "print(miniBio)\n",
    "\n",
    "print(float(age))\n",
    "\n"
   ]
  },
  {
   "cell_type": "code",
   "execution_count": 77,
   "metadata": {},
   "outputs": [
    {
     "name": "stdout",
     "output_type": "stream",
     "text": [
      "['My brain', 4, 78, 24, {'is': 'on fire'}, True, 'just one', 56, 5874.38]\n",
      "9\n",
      "['My brain', 4, 78]\n",
      "['My brain', 4, 78, 24, {'is': 'on fire'}, True, 'just one', 56, 5874.38, 'My brain', 4, 78]\n",
      "[\"I'm\", 'This', 'stunned', 'surprizingly', 'worked']\n",
      "[\"I'm\", 'This', 'stunned', 'surprizingly', 'worked']\n",
      "(['My brain', 4, 78], [\"I'm\", 'This', 'stunned', 'surprizingly', 'worked'])\n",
      "['My brain', 4, 78, \"I'm\", 'This', 'stunned', 'surprizingly', 'worked']\n"
     ]
    }
   ],
   "source": [
    "# 10. Create a list of at least 5 elements of mixed data types\n",
    "mixList = [\"My brain\", 4, 8, 24, {\"is\" : \"on fire\"}, True]\n",
    "\n",
    "# Replace a part of it with something else\n",
    "mixList[2] = 78\n",
    "\n",
    "# Append or insert several more items to the list\n",
    "mixList.append(\"just one\")\n",
    "mixList.append(56)\n",
    "mixList.append(5874.38)\n",
    "print(mixList)\n",
    "\n",
    "#Find and print the length of the list\n",
    "mixListLength = len(mixList)\n",
    "print(mixListLength)\n",
    "\n",
    "# Slice a sub-section of the 1st list, and save it to a different 2nd list, Print the 2nd list\n",
    "secondList = mixList[0 : 3]\n",
    "print(secondList)\n",
    "\n",
    "# Extend your original list with the 2nd list sliced above\n",
    "mixList.extend(secondList)\n",
    "print(mixList)\n",
    "\n",
    "# Create a new list called \"simList\" containing at least 5 elements of the same data type, \n",
    "# either string, integer, float, or Boolean\n",
    "simList = [\"This\", \"surprizingly\", \"worked\", \"I'm\", \"stunned\"]\n",
    "\n",
    "# Sort \"simList\", and print the list\n",
    "simList.sort()\n",
    "print(simList)\n",
    "\n",
    "# Copy the \"simList\" list to another 3rd list\n",
    "listCopy = simList.copy()\n",
    "print(listCopy)\n",
    "\n",
    "# Add the 2nd and 3rd lists together into a 4th list\n",
    "#not sure what was the exact assignement, so I did two different things. I'm thinking the second one was required.\n",
    "list4 = (secondList,simList)\n",
    "print(list4)\n",
    "\n",
    "list5 = secondList + simList\n",
    "print(list5)\n",
    "\n",
    "\n",
    "\n",
    "\n"
   ]
  },
  {
   "cell_type": "code",
   "execution_count": 78,
   "metadata": {},
   "outputs": [
    {
     "name": "stdout",
     "output_type": "stream",
     "text": [
      "(5, 19, 65, 5, 13, 158, 5, 19, 65, 5, 13, 158, 5, 19, 65, 5, 13, 158)\n",
      "158\n",
      "[5, 5, 5, 5, 5, 5, 13, 13, 13, 19, 19, 19, 65, 65, 65, 158, 158, 158]\n",
      "(65, 5, 13, 158)\n",
      "65\n",
      "5\n",
      "13\n",
      "158\n",
      "(50,)\n",
      "(5, 19, 65, 5, 13, 158, 5, 19, 65, 5, 13, 158, 5, 19, 65, 5, 13, 158, 65, 5, 13, 158)\n"
     ]
    }
   ],
   "source": [
    "# 11. Create a tuple of about 5 elements\n",
    "tupleOne = (5, 19, 65, 5, 13, 158)\n",
    "\n",
    "#Multiply your tuple by 3 and save it to a new 2nd tuple\n",
    "tupleTwo = tupleOne * 3\n",
    "print(tupleTwo)\n",
    "\n",
    "#Access and print the 12th element from the 2nd tuple\n",
    "print(tupleTwo[11])\n",
    "\n",
    "#Sort the 2nd tuple and print it\n",
    "print(sorted(tupleTwo))\n",
    "\n",
    "#Copy 4 specific elements from your 2nd tuple to a new 3nd tuple\n",
    "tupleThree = tupleTwo[8:12]\n",
    "print(tupleThree)\n",
    "\n",
    "#Unpack the 3rd tuple into 4 variables and print these variables\n",
    "(sixtyfive, five, thirteen, onefiftyeight) = tupleThree\n",
    "print(sixtyfive)\n",
    "print(five)\n",
    "print(thirteen)\n",
    "print(onefiftyeight)\n",
    "\n",
    "# Create a 4th tuple with single item 50 and print this tuple\n",
    "tupleFour = (50,)\n",
    "print(tupleFour)\n",
    "\n",
    "# Add the 2nd and 3rd tuple together into a 5th tuple and print the tuple\n",
    "tupleFive = tupleTwo + tupleThree\n",
    "print(tupleFive)\n"
   ]
  },
  {
   "cell_type": "code",
   "execution_count": 1,
   "metadata": {},
   "outputs": [],
   "source": [
    "# 12. Create a set of about 3 elements\n",
    "# The instruction was unclear to me: I wasn't sure if the fruits shoulf be added\n",
    "# individually or as a group to the set. So I wrote a code that needs user input.\n",
    "set1 = {\"neverending\", 5.5, True, \"end\"}\n",
    "tuple1 = (\"papaya\", \"dragonfruit\", \"watermelon\")\n",
    "(set1.add(tuple1))\n",
    "\n",
    "\n",
    "set2 = {\"neverending\", 5.5, True, \"end\"}\n",
    "list2 = [\"papaya\", \"dragonfruit\", \"watermelon\"]\n",
    "set2.update(list2)\n",
    "\n"
   ]
  },
  {
   "cell_type": "code",
   "execution_count": 2,
   "metadata": {},
   "outputs": [
    {
     "name": "stdout",
     "output_type": "stream",
     "text": [
      "Should fruits be added individually?\n",
      "{True, 'dragonfruit', 5.5, 'neverending', 'watermelon', 'end', 'papaya'}\n"
     ]
    }
   ],
   "source": [
    "print(\"Should fruits be added individually?\")\n",
    "game1 = input(\"Type yes or no. \")\n",
    "\n",
    "if(game1 == \"no\"):\n",
    "    print(set1),\n",
    "elif(game1 == \"yes\"):\n",
    "    print(set2)\n",
    "else : print(\"Unclear instruction.\")"
   ]
  },
  {
   "cell_type": "code",
   "execution_count": 127,
   "metadata": {},
   "outputs": [
    {
     "name": "stdout",
     "output_type": "stream",
     "text": [
      "{'neverending', True, 5.5, 'dragonfruit', 'watermelon', 'papaya', 'end', 'carburator'}\n"
     ]
    }
   ],
   "source": [
    "# Add a car element to your set\n",
    "# I'm going to use set2 for the rest of the activity\n",
    "\n",
    "set2.add(\"carburator\")\n",
    "print(set2)\n",
    "\n"
   ]
  },
  {
   "cell_type": "code",
   "execution_count": 128,
   "metadata": {},
   "outputs": [
    {
     "name": "stdout",
     "output_type": "stream",
     "text": [
      "{'wheel', 'windshield', 'bumper'}\n"
     ]
    }
   ],
   "source": [
    "\n",
    "# Create a 2nd set with a few odd items\n",
    "set3 = {\"wheel\", \"bumper\", \"windshield\"}\n",
    "print(set3)"
   ]
  },
  {
   "cell_type": "code",
   "execution_count": 129,
   "metadata": {},
   "outputs": [
    {
     "name": "stdout",
     "output_type": "stream",
     "text": [
      "{'neverending', True, 'windshield', 5.5, 'dragonfruit', 'bumper', 'watermelon', 'wheel', 'papaya', 'end', 'carburator'}\n"
     ]
    }
   ],
   "source": [
    "# Save the union of 1st set and 2nd set to a 3rd set\n",
    "\n",
    "set4 = set2.union(set3)\n",
    "print(set4)\n",
    "\n"
   ]
  },
  {
   "cell_type": "code",
   "execution_count": 130,
   "metadata": {},
   "outputs": [
    {
     "name": "stdout",
     "output_type": "stream",
     "text": [
      "{'windshield', 'bumper'}\n"
     ]
    }
   ],
   "source": [
    "\n",
    "# Pop an element from the 2nd set, and print the remainder of the set\n",
    "set3.pop()\n",
    "print(set3)\n",
    "\n"
   ]
  },
  {
   "cell_type": "code",
   "execution_count": 131,
   "metadata": {},
   "outputs": [
    {
     "name": "stdout",
     "output_type": "stream",
     "text": [
      "set()\n"
     ]
    }
   ],
   "source": [
    "# Clear the 1st set and print the result\n",
    "set2.clear()\n",
    "print(set2)\n",
    "\n",
    "\n"
   ]
  },
  {
   "cell_type": "code",
   "execution_count": 133,
   "metadata": {},
   "outputs": [
    {
     "name": "stdout",
     "output_type": "stream",
     "text": [
      "{True, 'windshield', 5.5, 'dragonfruit', 'bumper', 'watermelon', 'wheel', 'papaya', 'carburator'}\n"
     ]
    }
   ],
   "source": [
    "# Discard an element, and remove another element from the 3rd set\n",
    "set4.remove(\"neverending\")\n",
    "set4.discard(\"end\")\n",
    "print(set4)\n"
   ]
  },
  {
   "cell_type": "code",
   "execution_count": 160,
   "metadata": {},
   "outputs": [
    {
     "name": "stdout",
     "output_type": "stream",
     "text": [
      "orange\n",
      "{'color': 'Mea', 'color2': 'purple', 'color3': 'orange', 'car': 'Subaru', 'car2': 'Fiat'}\n",
      "{'color': 'Mea', 'color2': 'purple', 'color3': 'orange', 'car': 'Subaru', 'car2': 'Fiat', 'favecolor': 'teal'}\n",
      "{'color': 'Mea', 'color2': 'purple', 'color3': 'orange', 'car': 'Subaru', 'car2': 'Fiat', 'favecolor': 'teal', 'games': 'pictionary, uno, solitaire'}\n",
      "dict_keys(['color', 'color2', 'color3', 'car', 'car2', 'favecolor', 'games'])\n",
      "dict_values(['Mea', 'purple', 'orange', 'Subaru', 'Fiat', 'teal', 'pictionary, uno, solitaire'])\n",
      "{'color': 'Mea', 'color2': 'purple', 'color3': 'orange', 'car': 'Subaru', 'car2': 'Fiat', 'favecolor': 'teal', 'games': 'pictionary, uno, solitaire'}\n",
      "{'color': 'Mea', 'color2': 'purple', 'color3': 'orange', 'car': 'Subaru', 'favecolor': 'teal', 'games': 'pictionary, uno, solitaire'}\n",
      "{}\n"
     ]
    }
   ],
   "source": [
    "# 13. Create a dictionary with at least 5 values of different data types\n",
    "dict1 = {\"color\":\"black\", \"color2\":\"purple\", \"color3\":\"orange\", \"car\":\"Subaru\", \"car2\":\"Fiat\"}\n",
    "\n",
    "# Print out 1 value\n",
    "print(dict1[\"color3\"])\n",
    "\n",
    "# Replace any one value in your dictionary with your name\n",
    "dict1.update({\"color\":\"Mea\"})\n",
    "print(dict1)\n",
    "\n",
    "# Add your favorite color to the dictionary\n",
    "dict1.update({\"favecolor\":\"teal\"})\n",
    "print(dict1)\n",
    "\n",
    "# Add a list, tuple or set to your dictionary\n",
    "dict1.update({\"games\":\"pictionary, uno, solitaire\"})\n",
    "print(dict1)\n",
    "\n",
    "# Print a list of the dictionary keys\n",
    "print(dict1.keys())\n",
    "\n",
    "# Print a list of the dictionary values\n",
    "print(dict1.values())\n",
    "\n",
    "# Copy your 1st dictionary into a 2nd dictionary\n",
    "dict2 = dict1.copy()\n",
    "print(dict2)\n",
    "\n",
    "# Pop an item from the 2nd dictionary, and print the dictionary\n",
    "dict2.pop(\"car2\")\n",
    "print(dict2)\n",
    "\n",
    "# Remove all the elements from the 2nd dictionary and print the result\n",
    "dict2.clear()\n",
    "print(dict2)\n"
   ]
  }
 ],
 "metadata": {
  "kernelspec": {
   "display_name": "Python 3",
   "language": "python",
   "name": "python3"
  },
  "language_info": {
   "codemirror_mode": {
    "name": "ipython",
    "version": 3
   },
   "file_extension": ".py",
   "mimetype": "text/x-python",
   "name": "python",
   "nbconvert_exporter": "python",
   "pygments_lexer": "ipython3",
   "version": "3.12.1"
  }
 },
 "nbformat": 4,
 "nbformat_minor": 2
}
